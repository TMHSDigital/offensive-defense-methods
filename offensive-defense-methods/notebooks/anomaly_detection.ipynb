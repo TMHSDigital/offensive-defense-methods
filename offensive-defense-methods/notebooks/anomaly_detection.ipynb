{
 "cells": [
  {
   "cell_type": "markdown",
   "metadata": {},
   "source": [
    "# Anomaly Detection with Isolation Forest\n",
    "\n",
    "This notebook demonstrates how to use Isolation Forest for anomaly detection in a dataset."
   ]
  },
  {
   "cell_type": "code",
   "execution_count": null,
   "metadata": {},
   "outputs": [],
   "source": [
    "import numpy as np\n",
    "from sklearn.ensemble import IsolationForest\n",
    "\n",
    "# Generate synthetic data for demonstration\n",
    "X = np.random.rand(100, 2)\n",
    "X_outliers = np.random.uniform(low=-1, high=1, size=(20, 2))\n",
    "X = np.concatenate([X, X_outliers], axis=0)\n",
    "\n",
    "# Fit the model\n",
    "clf = IsolationForest(random_state=42, contamination=0.1)\n",
    "clf.fit(X)\n",
    "\n",
    "# Predict anomalies\n",
    "y_pred = clf.predict(X)\n",
    "\n",
    "# Output the results\n",
    "for i, pred in enumerate(y_pred):\n",
    "    if pred == -1:\n",
    "        print(f\"Anomaly detected at index {i}: {X[i]}\")"
   ]
  }
 ],
 "metadata": {
  "kernelspec": {
   "display_name": "Python 3",
   "language": "python",
   "name": "python3"
  },
  "language_info": {
   "codemirror_mode": {
    "name": "ipython",
    "version": 3
   },
   "file_extension": ".py",
   "mimetype": "text/x-python",
   "name": "python",
   "nbconvert_exporter": "python",
   "pygments_lexer": "ipython3",
   "version": "3.8.5"
  }
 },
 "nbformat": 4,
 "nbformat_minor": 4
}
